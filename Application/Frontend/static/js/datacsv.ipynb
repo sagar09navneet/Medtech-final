import pandas as pd


data = {
    "MedID": [101, 102, 103, 104, 105, 106, 107, 108, 109, 110],
    "Med_Name": ["Paracetamol", "Ibuprofen", "Amoxicillin", "Cetirizine", "Aspirin", 
                 "Metformin", "Omeprazole", "Azithromycin", "Atorvastatin", "Simvastatin"],
    "Company": ["MedCo", "PharmaPlus", "HealthLine", "CureLife", "PharmaCo", 
                "MedWell", "CareMed", "PharmaX", "WellnessLab", "LifeMeds"],
    "Manf_year": [2019, 2020, 2018, 2021, 2020, 2019, 2021, 2020, 2018, 2021],
    "Exp_date": ["2024-12-31", "2023-11-30", "2025-06-30", "2026-03-31", "2024-10-31", 
                 "2025-08-30", "2026-05-31", "2024-09-30", "2023-12-31", "2025-04-30"],
    "Quantity_in_stock": [250, 100, 500, 300, 450, 200, 400, 150, 350, 280],
    "Sales": [120, 80, 400, 150, 320, 90, 350, 120, 330, 100]
}


df = pd.DataFrame(data)


file_path = "/mnt/data/DataSet.csv"
df.to_csv(file_path, index=False)

file_path
